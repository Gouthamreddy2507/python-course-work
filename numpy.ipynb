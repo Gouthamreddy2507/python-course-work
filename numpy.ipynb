{
  "nbformat": 4,
  "nbformat_minor": 0,
  "metadata": {
    "colab": {
      "provenance": [],
      "authorship_tag": "ABX9TyPm2JtjfaIVt180ORoCpUQe",
      "include_colab_link": true
    },
    "kernelspec": {
      "name": "python3",
      "display_name": "Python 3"
    },
    "language_info": {
      "name": "python"
    }
  },
  "cells": [
    {
      "cell_type": "markdown",
      "metadata": {
        "id": "view-in-github",
        "colab_type": "text"
      },
      "source": [
        "<a href=\"https://colab.research.google.com/github/Gouthamreddy2507/python-course-work/blob/main/numpy.ipynb\" target=\"_parent\"><img src=\"https://colab.research.google.com/assets/colab-badge.svg\" alt=\"Open In Colab\"/></a>"
      ]
    },
    {
      "cell_type": "code",
      "execution_count": null,
      "metadata": {
        "id": "NLYfmudKXqYS",
        "outputId": "70d785a0-805c-48a0-fe1e-33b93fdaf2d6",
        "colab": {
          "base_uri": "https://localhost:8080/"
        }
      },
      "outputs": [
        {
          "output_type": "stream",
          "name": "stdout",
          "text": [
            "<module 'numpy' from '/usr/local/lib/python3.12/dist-packages/numpy/__init__.py'>\n",
            "1-dim\n",
            "[1 2 3 4 5]\n",
            "\n"
          ]
        }
      ],
      "source": [
        "import numpy as np\n",
        "\n",
        "print(np)\n",
        "\n",
        "arr1 = np.array([1,2,3,4,5])\n",
        "print(\"1-dim\",arr1,sep='\\n',end='\\n\\n')"
      ]
    },
    {
      "cell_type": "code",
      "source": [
        "import numpy as np\n",
        "\n",
        "# Array of zeros\n",
        "zeros = np.zeros((3, 3))\n",
        "print(zeros)\n",
        "# Array of ones\n",
        "ones = np.ones((2, 4))\n",
        "print(ones)\n",
        "# Identity matrix\n",
        "identity = np.eye(4)\n",
        "print(identity)\n",
        "\n",
        "# Array of a specific value\n",
        "full_array = np.full((2, 3), 7)\n",
        "print(full_array)"
      ],
      "metadata": {
        "id": "aSEz3YFnvx1B",
        "outputId": "0ab6d564-7929-4880-dc81-ad0e7c4a056c",
        "colab": {
          "base_uri": "https://localhost:8080/"
        }
      },
      "execution_count": 3,
      "outputs": [
        {
          "output_type": "stream",
          "name": "stdout",
          "text": [
            "[[0. 0. 0.]\n",
            " [0. 0. 0.]\n",
            " [0. 0. 0.]]\n",
            "[[1. 1. 1. 1.]\n",
            " [1. 1. 1. 1.]]\n",
            "[[1. 0. 0. 0.]\n",
            " [0. 1. 0. 0.]\n",
            " [0. 0. 1. 0.]\n",
            " [0. 0. 0. 1.]]\n",
            "[[7 7 7]\n",
            " [7 7 7]]\n"
          ]
        }
      ]
    },
    {
      "cell_type": "code",
      "source": [
        "zeros = np.zeros((6,4))\n",
        "print(zeros)"
      ],
      "metadata": {
        "id": "RPsAu4vmw51h",
        "outputId": "c1f75c26-af18-4edb-9dda-619dfce7b05b",
        "colab": {
          "base_uri": "https://localhost:8080/"
        }
      },
      "execution_count": 5,
      "outputs": [
        {
          "output_type": "stream",
          "name": "stdout",
          "text": [
            "[[0. 0. 0. 0.]\n",
            " [0. 0. 0. 0.]\n",
            " [0. 0. 0. 0.]\n",
            " [0. 0. 0. 0.]\n",
            " [0. 0. 0. 0.]\n",
            " [0. 0. 0. 0.]]\n"
          ]
        }
      ]
    },
    {
      "cell_type": "code",
      "source": [
        "ones = np.ones((6,4))\n",
        "print(ones)"
      ],
      "metadata": {
        "id": "Lar1aKiFwQ3Y",
        "outputId": "60e690e8-f476-4d58-ba57-2e67171aa071",
        "colab": {
          "base_uri": "https://localhost:8080/"
        }
      },
      "execution_count": 4,
      "outputs": [
        {
          "output_type": "stream",
          "name": "stdout",
          "text": [
            "[[1. 1. 1. 1.]\n",
            " [1. 1. 1. 1.]\n",
            " [1. 1. 1. 1.]\n",
            " [1. 1. 1. 1.]\n",
            " [1. 1. 1. 1.]\n",
            " [1. 1. 1. 1.]]\n"
          ]
        }
      ]
    },
    {
      "cell_type": "code",
      "source": [
        "identity = np.eye(4)\n",
        "print(identity)"
      ],
      "metadata": {
        "id": "XxlRPpQPxW51",
        "outputId": "3f7224e9-43ce-4fcc-8de2-32aaacc05c0a",
        "colab": {
          "base_uri": "https://localhost:8080/"
        }
      },
      "execution_count": 6,
      "outputs": [
        {
          "output_type": "stream",
          "name": "stdout",
          "text": [
            "[[1. 0. 0. 0.]\n",
            " [0. 1. 0. 0.]\n",
            " [0. 0. 1. 0.]\n",
            " [0. 0. 0. 1.]]\n"
          ]
        }
      ]
    },
    {
      "cell_type": "code",
      "source": [
        "full = np.full((5,9),False)\n",
        "print(full)"
      ],
      "metadata": {
        "id": "3bwcFDKJxyIh",
        "outputId": "7d0859e5-80ff-4d72-856b-09da096fb2f0",
        "colab": {
          "base_uri": "https://localhost:8080/"
        }
      },
      "execution_count": 7,
      "outputs": [
        {
          "output_type": "stream",
          "name": "stdout",
          "text": [
            "[[False False False False False False False False False]\n",
            " [False False False False False False False False False]\n",
            " [False False False False False False False False False]\n",
            " [False False False False False False False False False]\n",
            " [False False False False False False False False False]]\n"
          ]
        }
      ]
    },
    {
      "cell_type": "code",
      "source": [
        "rand_float = np.random.rand(3,3)\n",
        "print(rand_float)"
      ],
      "metadata": {
        "id": "GmaWdJBi0bGu",
        "outputId": "c40dddf8-7d87-4a05-db13-984adeb68300",
        "colab": {
          "base_uri": "https://localhost:8080/"
        }
      },
      "execution_count": 14,
      "outputs": [
        {
          "output_type": "stream",
          "name": "stdout",
          "text": [
            "[[0.71840683 0.42361525 0.10888794]\n",
            " [0.73467173 0.67667647 0.6260595 ]\n",
            " [0.37472127 0.69478344 0.54053171]]\n"
          ]
        }
      ]
    },
    {
      "cell_type": "code",
      "source": [
        "range = np.arange(2,101,2)\n",
        "print(range)"
      ],
      "metadata": {
        "id": "PhvMwAJLx_Hz",
        "outputId": "e623682f-5e40-4dcb-9b47-7d92ab38015f",
        "colab": {
          "base_uri": "https://localhost:8080/"
        }
      },
      "execution_count": 9,
      "outputs": [
        {
          "output_type": "stream",
          "name": "stdout",
          "text": [
            "[  2   4   6   8  10  12  14  16  18  20  22  24  26  28  30  32  34  36\n",
            "  38  40  42  44  46  48  50  52  54  56  58  60  62  64  66  68  70  72\n",
            "  74  76  78  80  82  84  86  88  90  92  94  96  98 100]\n"
          ]
        }
      ]
    },
    {
      "cell_type": "code",
      "source": [
        "lin_space = np.linspace(100,499,5)\n",
        "print(lin_space)"
      ],
      "metadata": {
        "id": "UNCfbUNvyg13",
        "outputId": "600fd8d6-9eb2-4dee-aad5-6b691dbef774",
        "colab": {
          "base_uri": "https://localhost:8080/"
        }
      },
      "execution_count": 10,
      "outputs": [
        {
          "output_type": "stream",
          "name": "stdout",
          "text": [
            "[100.   199.75 299.5  399.25 499.  ]\n"
          ]
        }
      ]
    },
    {
      "cell_type": "code",
      "source": [
        "rand_int = np.random.randint(1,10,(1,30))\n",
        "print(rand_int)"
      ],
      "metadata": {
        "id": "MgLN1NRQy4yz",
        "outputId": "899768c6-6a86-48ed-dbd4-e76de9650cc2",
        "colab": {
          "base_uri": "https://localhost:8080/"
        }
      },
      "execution_count": 13,
      "outputs": [
        {
          "output_type": "stream",
          "name": "stdout",
          "text": [
            "[[7 4 4 7 2 6 6 1 7 5 5 2 3 2 1 3 1 1 5 2 8 1 3 3 6 1 9 3 7 6]]\n"
          ]
        }
      ]
    },
    {
      "cell_type": "code",
      "source": [
        "rand_norm = np.random.randn(3,3)\n",
        "print(rand_norm)"
      ],
      "metadata": {
        "id": "p3rLdYvg0aI0",
        "outputId": "c1820b10-e236-477b-bb88-0ffb253c1527",
        "colab": {
          "base_uri": "https://localhost:8080/"
        }
      },
      "execution_count": 16,
      "outputs": [
        {
          "output_type": "stream",
          "name": "stdout",
          "text": [
            "[[ 0.12907044  0.50744584 -0.58295902]\n",
            " [ 0.51981623 -0.50415282 -1.79361447]\n",
            " [ 0.05557463  0.89344588 -0.4141434 ]]\n"
          ]
        }
      ]
    },
    {
      "cell_type": "code",
      "source": [
        "rand_choice = np.random.choice(['teja','kalyan','bhavani','pavani','vishwas'],2)\n",
        "print(rand_choice)"
      ],
      "metadata": {
        "id": "ZqEVCFyN2kav",
        "outputId": "b94e98ea-4b40-464f-ab95-e63f9812a4eb",
        "colab": {
          "base_uri": "https://localhost:8080/"
        }
      },
      "execution_count": 17,
      "outputs": [
        {
          "output_type": "stream",
          "name": "stdout",
          "text": [
            "['teja' 'bhavani']\n"
          ]
        }
      ]
    },
    {
      "cell_type": "code",
      "source": [
        "np.random.seed(42)\n",
        "rand_arr = np.random.randint(10)\n",
        "print(rand_arr)"
      ],
      "metadata": {
        "id": "lXTtyAra3YW7",
        "outputId": "ceec9567-821a-447b-9827-a0f50f236011",
        "colab": {
          "base_uri": "https://localhost:8080/"
        }
      },
      "execution_count": 35,
      "outputs": [
        {
          "output_type": "stream",
          "name": "stdout",
          "text": [
            "8\n"
          ]
        }
      ]
    },
    {
      "cell_type": "code",
      "source": [
        "arr = np.array([[1,2,3],[4,5,6]])\n",
        "print(arr.shape)"
      ],
      "metadata": {
        "id": "hCBq3SF83-NZ",
        "outputId": "9b6c8d7e-1d40-4015-d58e-1d45ce4f2cdb",
        "colab": {
          "base_uri": "https://localhost:8080/"
        }
      },
      "execution_count": 36,
      "outputs": [
        {
          "output_type": "stream",
          "name": "stdout",
          "text": [
            "(2, 3)\n"
          ]
        }
      ]
    },
    {
      "cell_type": "code",
      "source": [
        "reshaped = arr.reshape(2,3)\n",
        "print(reshaped)"
      ],
      "metadata": {
        "id": "KxFA1Ovd4SVD",
        "outputId": "989059a8-4f84-4f41-f72a-27e85377e2dc",
        "colab": {
          "base_uri": "https://localhost:8080/"
        }
      },
      "execution_count": 38,
      "outputs": [
        {
          "output_type": "stream",
          "name": "stdout",
          "text": [
            "[[1 2 3]\n",
            " [4 5 6]]\n"
          ]
        }
      ]
    },
    {
      "cell_type": "code",
      "source": [
        "flattened = arr.flatten()\n",
        "print(flattened)"
      ],
      "metadata": {
        "id": "eGlIB0bJ6i12",
        "outputId": "241cbf6c-4e68-4941-a2cb-b8e56fcc71bb",
        "colab": {
          "base_uri": "https://localhost:8080/"
        }
      },
      "execution_count": 39,
      "outputs": [
        {
          "output_type": "stream",
          "name": "stdout",
          "text": [
            "[1 2 3 4 5 6]\n"
          ]
        }
      ]
    },
    {
      "cell_type": "code",
      "source": [
        "transposed = arr.T\n",
        "print(transposed)"
      ],
      "metadata": {
        "id": "QFwZYu_R6xS-",
        "outputId": "c24da296-3228-4dcc-dd92-65bb6cbfd2d8",
        "colab": {
          "base_uri": "https://localhost:8080/"
        }
      },
      "execution_count": 40,
      "outputs": [
        {
          "output_type": "stream",
          "name": "stdout",
          "text": [
            "[[1 4]\n",
            " [2 5]\n",
            " [3 6]]\n"
          ]
        }
      ]
    },
    {
      "cell_type": "code",
      "source": [
        "arr = np.array([10,20,30,40,50])\n",
        "print(arr[0])\n",
        "print(arr[-1])\n",
        "print(arr[1:4])\n",
        "print(arr[:3])\n",
        "print(arr[::2])"
      ],
      "metadata": {
        "id": "37AS3Ky-7QbL",
        "outputId": "a4abcfba-ba91-495a-87bd-13ace6e8d845",
        "colab": {
          "base_uri": "https://localhost:8080/"
        }
      },
      "execution_count": 41,
      "outputs": [
        {
          "output_type": "stream",
          "name": "stdout",
          "text": [
            "10\n",
            "50\n",
            "[20 30 40]\n",
            "[10 20 30]\n",
            "[10 30 50]\n"
          ]
        }
      ]
    },
    {
      "cell_type": "code",
      "source": [
        "matrix = np.array([[10,20,30],[40,50,60],[70,80,90]])\n",
        "print(matrix[1,2])\n",
        "print(matrix[1:,0])\n",
        "print(matrix[0:1,0:2])"
      ],
      "metadata": {
        "id": "MwGy5Tw_7w9L",
        "outputId": "4d295c27-60e1-4a1b-bf0b-2b2d7bd85198",
        "colab": {
          "base_uri": "https://localhost:8080/"
        }
      },
      "execution_count": 45,
      "outputs": [
        {
          "output_type": "stream",
          "name": "stdout",
          "text": [
            "60\n",
            "[40 70]\n",
            "[[10 20]]\n"
          ]
        }
      ]
    },
    {
      "cell_type": "code",
      "source": [
        "arr = np.array([4,9,16,25,36])"
      ],
      "metadata": {
        "id": "wYb-GoF19fPb"
      },
      "execution_count": 46,
      "outputs": []
    },
    {
      "cell_type": "code",
      "source": [
        "print(arr + 1)\n",
        "print(arr * 2)\n",
        "print(arr ** 2)\n"
      ],
      "metadata": {
        "id": "NXm9lBeu9nTV",
        "outputId": "64c1a6a2-3c0b-4b13-926d-88ced80afb28",
        "colab": {
          "base_uri": "https://localhost:8080/"
        }
      },
      "execution_count": 48,
      "outputs": [
        {
          "output_type": "stream",
          "name": "stdout",
          "text": [
            "[ 5 10 17 26 37]\n",
            "[ 8 18 32 50 72]\n",
            "[  16   81  256  625 1296]\n"
          ]
        }
      ]
    },
    {
      "cell_type": "code",
      "source": [
        "print(np.sum(arr))\n",
        "print(np.mean(arr))\n",
        "print(np.median(arr))"
      ],
      "metadata": {
        "id": "SWJm8sxY96eU",
        "outputId": "7655b45f-e135-4f74-84c4-4a1a30ba2333",
        "colab": {
          "base_uri": "https://localhost:8080/"
        }
      },
      "execution_count": 49,
      "outputs": [
        {
          "output_type": "stream",
          "name": "stdout",
          "text": [
            "90\n",
            "18.0\n",
            "16.0\n"
          ]
        }
      ]
    },
    {
      "cell_type": "code",
      "source": [
        "print(np.std(arr))\n",
        "print(np.var(arr))"
      ],
      "metadata": {
        "id": "sbqWxvuG-XtS",
        "outputId": "7d3b4d1f-b6a5-4998-f773-7b83b0459676",
        "colab": {
          "base_uri": "https://localhost:8080/"
        }
      },
      "execution_count": 50,
      "outputs": [
        {
          "output_type": "stream",
          "name": "stdout",
          "text": [
            "11.436782764396638\n",
            "130.8\n"
          ]
        }
      ]
    },
    {
      "cell_type": "code",
      "source": [
        "print(np.min(arr))\n",
        "print(np.max(arr))"
      ],
      "metadata": {
        "id": "BCjgQErz-g5J",
        "outputId": "c8578129-15ef-4391-b328-c41522d1940c",
        "colab": {
          "base_uri": "https://localhost:8080/"
        }
      },
      "execution_count": 51,
      "outputs": [
        {
          "output_type": "stream",
          "name": "stdout",
          "text": [
            "4\n",
            "36\n"
          ]
        }
      ]
    },
    {
      "cell_type": "code",
      "source": [
        "print(np.cumsum(arr))\n",
        "print(np.cumprod(arr))"
      ],
      "metadata": {
        "id": "jGeI76R__DdZ",
        "outputId": "f1d74b64-f5f3-4442-c426-2a25c853578a",
        "colab": {
          "base_uri": "https://localhost:8080/"
        }
      },
      "execution_count": 52,
      "outputs": [
        {
          "output_type": "stream",
          "name": "stdout",
          "text": [
            "[ 4 13 29 54 90]\n",
            "[     4     36    576  14400 518400]\n"
          ]
        }
      ]
    },
    {
      "cell_type": "code",
      "source": [
        "print(arr <= 30)\n",
        "print(arr[arr <= 30])"
      ],
      "metadata": {
        "id": "R_FRup04AWuu",
        "outputId": "fce618b3-f59c-4b84-dad8-30304eca1b67",
        "colab": {
          "base_uri": "https://localhost:8080/"
        }
      },
      "execution_count": 53,
      "outputs": [
        {
          "output_type": "stream",
          "name": "stdout",
          "text": [
            "[ True  True  True  True False]\n",
            "[ 4  9 16 25]\n"
          ]
        }
      ]
    },
    {
      "cell_type": "code",
      "source": [
        "arr = np.array([3,4,2,4,1,5,8,4,3,6])\n",
        "sorted_arr = np.sort(arr)\n",
        "print(sorted_arr)"
      ],
      "metadata": {
        "id": "rUMaZd7rAhrv",
        "outputId": "0f3fac55-3b83-48d3-f246-b6e73d96ab7e",
        "colab": {
          "base_uri": "https://localhost:8080/"
        }
      },
      "execution_count": 55,
      "outputs": [
        {
          "output_type": "stream",
          "name": "stdout",
          "text": [
            "[1 2 3 3 4 4 4 5 6 8]\n"
          ]
        }
      ]
    }
  ]
}